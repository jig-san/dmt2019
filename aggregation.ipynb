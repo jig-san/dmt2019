{
 "cells": [
  {
   "cell_type": "code",
   "execution_count": 1,
   "metadata": {
    "pycharm": {
     "is_executing": false
    }
   },
   "outputs": [],
   "source": [
    "import pandas as pd\n",
    "import numpy as np\n",
    "from statistics import mean, variance"
   ]
  },
  {
   "cell_type": "code",
   "execution_count": 2,
   "metadata": {
    "pycharm": {
     "is_executing": false
    }
   },
   "outputs": [],
   "source": [
    "def aggregate_attribute(attr: str, values: list) -> float:\n",
    "    # number of non-zero values for numbers of calls and sms, mean for everything else\n",
    "    values = [v for v in values if v == v]\n",
    "    if attr == 'call' or attr == 'sms':\n",
    "        return len(values)\n",
    "    if len(values) == 0:\n",
    "        return None\n",
    "    return mean(values)"
   ]
  },
  {
   "cell_type": "code",
   "execution_count": 3,
   "metadata": {
    "pycharm": {
     "is_executing": false
    }
   },
   "outputs": [],
   "source": [
    "def create_dataframe(file_path: str) -> object:\n",
    "    # read csv, split time into separate date and time colums\n",
    "    data_frame = pd.read_csv(file_path, parse_dates=True)\n",
    "    data_frame['date'] = pd.to_datetime(data_frame.time.str.split(' ', expand=True)[0])\n",
    "    data_frame['time'] = data_frame.time.str.split(' ', expand=True)[1]\n",
    "    return data_frame\n",
    "    \n",
    "def get_unique_column_values(column: str, dataframe: object) -> object:\n",
    "    return dataframe[column].unique()\n",
    "\n",
    "def get_aggregated_attr_in_window(usr: str, attrib: str, offset: int, dataframe: object) -> (list, list):\n",
    "    aggregated = []\n",
    "    # get subtable for user+attribute\n",
    "    if attr in list(dataframe.groupby(['id']).get_group(usr).variable):\n",
    "        subframe = dataframe.groupby(['id', 'variable']).get_group((usr, attrib))\n",
    "    else:\n",
    "        return\n",
    "    # using dates from the whole dataframe\n",
    "    # dates = list(set(subframe.date.tolist()))\n",
    "    k = 0\n",
    "    for i in range(len(dates) - offset):\n",
    "        window_values = []\n",
    "        for j in range(i, i + offset):\n",
    "            # selecting attribute values for corresponding dates in window\n",
    "            window_values.extend(subframe.loc[subframe['date'] == dates[j], 'value'].tolist())\n",
    "        # aggregate attribute values\n",
    "        aggregated.append(aggregate_attribute(attrib, window_values))\n",
    "    return aggregated\n",
    "\n",
    "def get_targets(usr: str, offset: int, dataframe: object) -> list:\n",
    "    # get subtable for user+\"mood\"\n",
    "    subframe = dataframe.groupby(['id', 'variable']).get_group((usr, \"mood\"))\n",
    "    targets = []\n",
    "    for i in range(len(dates) - offset):\n",
    "        # calculate target as mean mood value for the day after offset window\n",
    "        target_mood = aggregate_attribute(\"mood\", subframe.loc[subframe['date'] == dates[i + offset], 'value'].tolist())\n",
    "        targets.append(target_mood)\n",
    "    return targets\n",
    "    \n",
    "    "
   ]
  },
  {
   "cell_type": "code",
   "execution_count": null,
   "metadata": {
    "pycharm": {
     "is_executing": false
    }
   },
   "outputs": [],
   "source": [
    "dataframe = create_dataframe(\"dataset_mood_smartphone.csv\")\n",
    "attributes = get_unique_column_values(\"variable\", dataframe)\n",
    "users = get_unique_column_values(\"id\", dataframe)\n",
    "window_size = 3\n",
    "# sort all dates from dataset to iterate over them further\n",
    "dates = list(set(dataframe.date.tolist()))\n",
    "dates.sort()\n",
    "aggregated = {}\n",
    "targets = {}\n",
    "for ii, id in enumerate(users):\n",
    "    # printing because slow\n",
    "    # print(ii, len(users))\n",
    "    for attr in attributes:\n",
    "        aggr = get_aggregated_attr_in_window(id, attr, window_size, dataframe)\n",
    "        # none check before adding to the resulting dict\n",
    "        if aggr is not None:\n",
    "            aggregated[(id, attr)] = aggr\n",
    "    targets[id] = get_targets(id, window_size, dataframe)\n",
    "\n",
    "# add target column to aggregated db\n",
    "attributes = np.append(attributes, 'target')\n",
    "for id in users:\n",
    "    aggregated[(id, 'target')] = targets[id]"
   ]
  },
  {
   "cell_type": "code",
   "execution_count": null,
   "metadata": {
    "pycharm": {}
   },
   "outputs": [],
   "source": [
    "# verify shape\n",
    "lens = []\n",
    "for _, values in aggregated.items():\n",
    "    lens.append(len(values))\n",
    "print(variance(lens), 'expected 0')"
   ]
  },
  {
   "cell_type": "code",
   "execution_count": 9,
   "metadata": {
    "pycharm": {}
   },
   "outputs": [],
   "source": [
    "# filling table and printing to csv\n",
    "p = len(next(iter(aggregated.values())))\n",
    "df_collection = [[None] * (len(attributes) + 1) for _ in range(p*len(users))]\n",
    "\n",
    "attr_indices = {attr: i for (i,attr) in enumerate(attributes)}\n",
    "user_indices = {user: i for (i,user) in enumerate(users)}\n",
    "\n",
    "for key, values in aggregated.items():\n",
    "    user_index = user_indices[key[0]]\n",
    "    attr_index = attr_indices[key[1]]\n",
    "    for i, value in enumerate(values):\n",
    "        df_collection[user_index * p + i][0] = key[0]\n",
    "        df_collection[user_index * p + i][attr_index + 1] = value\n",
    "        \n",
    "df = pd.DataFrame(df_collection)\n",
    "df.to_csv(\"aggregated_3.csv\", header=['id']+attributes.tolist(), index=None)"
   ]
  },
  {
   "cell_type": "code",
   "execution_count": null,
   "metadata": {},
   "outputs": [],
   "source": []
  }
 ],
 "metadata": {
  "kernelspec": {
   "display_name": "Python 3",
   "language": "python",
   "name": "python3"
  },
  "language_info": {
   "codemirror_mode": {
    "name": "ipython",
    "version": 3
   },
   "file_extension": ".py",
   "mimetype": "text/x-python",
   "name": "python",
   "nbconvert_exporter": "python",
   "pygments_lexer": "ipython3",
   "version": "3.7.0"
  }
 },
 "nbformat": 4,
 "nbformat_minor": 2
}
