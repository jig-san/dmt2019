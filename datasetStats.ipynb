{
 "cells": [
  {
   "cell_type": "code",
   "execution_count": 2,
   "metadata": {},
   "outputs": [],
   "source": [
    "import pandas as pd\n",
    "import numpy as np\n",
    "import scipy\n",
    "import matplotlib.pyplot as plt"
   ]
  },
  {
   "cell_type": "code",
   "execution_count": 3,
   "metadata": {},
   "outputs": [],
   "source": [
    "df = pd.read_csv(\"aggregated_3.csv\")\n",
    "# do not look at rows with empty mood or target\n",
    "df = df[np.isfinite(df['mood'])]\n",
    "df = df[np.isfinite(df['target'])]\n",
    "users = df['id'].unique()\n",
    "attrs = list(df.columns.values)\n",
    "_ = attrs.pop(0)"
   ]
  },
  {
   "cell_type": "code",
   "execution_count": 4,
   "metadata": {},
   "outputs": [],
   "source": [
    "# fill empty cells with mean attr value per user\n",
    "df_collection = {}\n",
    "for id in users:\n",
    "    for attr in attrs:\n",
    "        df.loc[df.id == id, attr] = df.loc[df.id == id, attr].fillna(df.loc[df.id == id, attr].mean())"
   ]
  },
  {
   "cell_type": "code",
   "execution_count": 5,
   "metadata": {},
   "outputs": [
    {
     "name": "stdout",
     "output_type": "stream",
     "text": [
      "mood:  0.484284483567837\n",
      "circumplex.arousal:  0.038653272329530544\n",
      "circumplex.valence:  0.24181901102723893\n",
      "activity:  0.10376382690279379\n",
      "screen:  -0.0634253024222311\n",
      "call:  -0.02403992574587262\n",
      "sms:  -0.08836372396434984\n",
      "appCat.builtin:  0.0891755055121812\n",
      "appCat.communication:  -0.017297561115800948\n",
      "appCat.entertainment:  -0.06723341694750817\n",
      "appCat.finance:  0.00020303500307895157\n",
      "appCat.game:  0.15853336756577902\n",
      "appCat.office:  -0.0021651619006521974\n",
      "appCat.other:  0.03513726440987047\n",
      "appCat.social:  -0.06582635508169778\n",
      "appCat.travel:  0.01539134557153911\n",
      "appCat.unknown:  0.04419758526200624\n",
      "appCat.utilities:  -0.06247977112883852\n",
      "appCat.weather:  -0.047959997690017415\n"
     ]
    }
   ],
   "source": [
    "# Pearson corellation of attributes with target\n",
    "_ = attrs.pop() # correlation of target with itself\n",
    "for attr in attrs:\n",
    "    print(attr + ': ', df['target'].corr(df[attr]))"
   ]
  },
  {
   "cell_type": "code",
   "execution_count": null,
   "metadata": {},
   "outputs": [],
   "source": [
    "# same per user\n",
    "for id in users:\n",
    "    print('==============================')\n",
    "    print(id)\n",
    "    for attr in attrs:\n",
    "        print(attr + ': ', df.loc[df.id == id, 'target'].corr(df.loc[df.id == id, attr]))"
   ]
  },
  {
   "cell_type": "code",
   "execution_count": 6,
   "metadata": {},
   "outputs": [],
   "source": [
    "df.to_csv(\"aggregated_3_filled.csv\")"
   ]
  },
  {
   "cell_type": "code",
   "execution_count": null,
   "metadata": {},
   "outputs": [],
   "source": []
  }
 ],
 "metadata": {
  "kernelspec": {
   "display_name": "Python 3",
   "language": "python",
   "name": "python3"
  },
  "language_info": {
   "codemirror_mode": {
    "name": "ipython",
    "version": 3
   },
   "file_extension": ".py",
   "mimetype": "text/x-python",
   "name": "python",
   "nbconvert_exporter": "python",
   "pygments_lexer": "ipython3",
   "version": "3.7.0"
  }
 },
 "nbformat": 4,
 "nbformat_minor": 2
}
