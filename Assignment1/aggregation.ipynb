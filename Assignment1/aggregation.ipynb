{
 "cells": [
  {
   "cell_type": "code",
   "execution_count": 26,
   "metadata": {
    "pycharm": {
     "is_executing": false
    }
   },
   "outputs": [],
   "source": [
    "import pandas as pd\n",
    "import numpy as np\n",
    "from datetime import datetime\n",
    "from statistics import mean, variance\n",
    "import seaborn as sns\n",
    "import matplotlib.pyplot as plt"
   ]
  },
  {
   "cell_type": "code",
   "execution_count": 27,
   "metadata": {
    "pycharm": {
     "is_executing": false
    }
   },
   "outputs": [],
   "source": [
    "def aggregate_attribute(attr: str, values: list) -> float:\n",
    "    # number of non-zero values for numbers of calls and sms, mean for everything else\n",
    "    values = [v for v in values if v == v]\n",
    "    if attr == 'call' or attr == 'sms':\n",
    "        return len(values)\n",
    "    if len(values) == 0:\n",
    "        return None\n",
    "    return mean(values)"
   ]
  },
  {
   "cell_type": "code",
   "execution_count": 29,
   "metadata": {},
   "outputs": [],
   "source": [
    "def get_avg_time(id: str, attr: str, offset: int, df: object) -> list:\n",
    "    avg_time = []\n",
    "    if attr in list(df.groupby(['id']).get_group(id).variable):\n",
    "        subframe = df.groupby(['id', 'variable']).get_group((id, attr))\n",
    "    else:\n",
    "        return\n",
    "    for i in range(len(dates) - offset):\n",
    "        window_values = []\n",
    "        ts_in_window = []\n",
    "        for j in range(i, i + offset):\n",
    "            # get timestamps in rows for corresponding dates in window\n",
    "            ts_in_window.extend((subframe.loc[subframe['date'] == dates[j]].time).to_list())\n",
    "        # add mean time (in seconds) in window\n",
    "        if ts_in_window:\n",
    "            t = pd.to_datetime(mean(ts_in_window), unit='ns').time()\n",
    "            avg_time.append(t.hour * 60 + t.minute)\n",
    "        else:\n",
    "            avg_time.append(None)\n",
    "    return avg_time"
   ]
  },
  {
   "cell_type": "code",
   "execution_count": 30,
   "metadata": {
    "pycharm": {
     "is_executing": false
    }
   },
   "outputs": [],
   "source": [
    "def create_dataframe(file_path: str) -> object:\n",
    "    # read csv, split time into separate date and time colums\n",
    "    data_frame = pd.read_csv(file_path, parse_dates=False)\n",
    "    data_frame['date'] = pd.to_datetime(data_frame.time.str.split(' ', expand=True)[0])\n",
    "    data_frame['time'] = pd.to_datetime(data_frame.time.str.split(' ', expand=True)[1])\n",
    "    # time to seconds for calculations\n",
    "    data_frame['time'] = pd.to_datetime(data_frame['time'], unit='s').values.astype(np.int64)\n",
    "    return data_frame\n",
    "    \n",
    "def get_unique_column_values(column: str, dataframe: object) -> object:\n",
    "    return dataframe[column].unique()\n",
    "\n",
    "def get_aggregated_attr_in_window(usr: str, attrib: str, offset: int, dataframe: object) -> list:\n",
    "    aggregated = []\n",
    "    # get subtable for user+attribute\n",
    "    if attrib in list(dataframe.groupby(['id']).get_group(usr).variable):\n",
    "        subframe = dataframe.groupby(['id', 'variable']).get_group((usr, attrib))\n",
    "    else:\n",
    "        return\n",
    "    # using dates from the whole dataframe\n",
    "    # dates = list(set(subframe.date.tolist()))\n",
    "    for i in range(len(dates) - offset):\n",
    "        window_values = []\n",
    "        for j in range(i, i + offset):\n",
    "            # selecting attribute values for corresponding dates in window\n",
    "            window_values.extend(subframe.loc[subframe['date'] == dates[j], 'value'].tolist())\n",
    "        # aggregate attribute values\n",
    "        aggregated.append(aggregate_attribute(attrib, window_values))\n",
    "    return aggregated\n",
    "\n",
    "def get_targets(usr: str, offset: int, dataframe: object) -> (list, list):\n",
    "    # get subtable for user+\"mood\"\n",
    "    subframe = dataframe.groupby(['id', 'variable']).get_group((usr, \"mood\"))\n",
    "    targets = []\n",
    "    weekdays = []\n",
    "    for i in range(len(dates) - offset):\n",
    "        # calculate target as mean mood value for the day after offset window\n",
    "        target_mood = aggregate_attribute(\"mood\", subframe.loc[subframe['date'] == dates[i + offset], 'value'].tolist())\n",
    "        targets.append(target_mood)\n",
    "        # collect target weekdays\n",
    "        weekdays.append(dates[i + offset].weekday())\n",
    "    return targets, weekdays\n"
   ]
  },
  {
   "cell_type": "code",
   "execution_count": 31,
   "metadata": {},
   "outputs": [],
   "source": [
    "dataframe = create_dataframe(\"dataset_mood_smartphone.csv\")\n",
    "attributes = get_unique_column_values(\"variable\", dataframe)\n",
    "users = get_unique_column_values(\"id\", dataframe)\n",
    "window_size = 3\n",
    "# sort all dates from dataset to iterate over them further\n",
    "dates = list(set(dataframe.date.tolist()))\n",
    "dates.sort()\n",
    "aggregated = {}\n",
    "# custom attributes to add\n",
    "targets = {}\n",
    "weekdays = {}\n",
    "\n",
    "# add custom attributes column to aggregated db\n",
    "attributes = np.append(attributes, 'target')\n",
    "attributes = np.append(attributes, 'smstime')\n",
    "attributes = np.append(attributes, 'calltime')\n",
    "for i in range(7):\n",
    "    attributes = np.append(attributes, 'weekday_'+str(i))"
   ]
  },
  {
   "cell_type": "code",
   "execution_count": 32,
   "metadata": {
    "pycharm": {
     "is_executing": false
    }
   },
   "outputs": [],
   "source": [
    "for ii, id in enumerate(users):\n",
    "    # printing because slow\n",
    "    # print(ii, len(users))\n",
    "    for attr in attributes:\n",
    "        aggr = get_aggregated_attr_in_window(id, attr, window_size, dataframe)\n",
    "        # none check before adding to the resulting dict\n",
    "        if aggr is not None:\n",
    "            aggregated[(id, attr)] = aggr\n",
    "        # add mean time of calls and sms to attributes\n",
    "        if attr == 'call':\n",
    "            aggregated[(id, 'calltime')] = get_avg_time(id, attr, window_size, dataframe)\n",
    "        if attr == 'sms':\n",
    "            aggregated[(id, 'smstime')] = get_avg_time(id, attr, window_size, dataframe)\n",
    "    t, w = get_targets(id, window_size, dataframe)\n",
    "    targets[id] = t\n",
    "    weekdays[id] = w\n",
    "\n",
    "for id in users:\n",
    "    aggregated[(id, 'target')] = targets[id]\n",
    "    for i in range(7):\n",
    "        aggregated[(id, 'weekday_'+str(i))] = []\n",
    "    for wd in weekdays[id]:\n",
    "        for i in range(7):\n",
    "            if i == wd:\n",
    "                aggregated[(id, 'weekday_'+str(i))].append(1)\n",
    "            else:\n",
    "                aggregated[(id, 'weekday_'+str(i))].append(0)"
   ]
  },
  {
   "cell_type": "code",
   "execution_count": 33,
   "metadata": {
    "pycharm": {}
   },
   "outputs": [
    {
     "name": "stdout",
     "output_type": "stream",
     "text": [
      "0 expected 0\n"
     ]
    }
   ],
   "source": [
    "# verify shape\n",
    "lens = []\n",
    "for _, values in aggregated.items():\n",
    "    lens.append(len(values))\n",
    "print(variance(lens), 'expected 0')"
   ]
  },
  {
   "cell_type": "code",
   "execution_count": 35,
   "metadata": {
    "pycharm": {}
   },
   "outputs": [],
   "source": [
    "# filling table and printing to csv\n",
    "p = len(next(iter(aggregated.values())))\n",
    "df_collection = [[None] * (len(attributes) + 1) for _ in range(p*len(users))]\n",
    "\n",
    "attr_indices = {attr: i for (i,attr) in enumerate(attributes)}\n",
    "user_indices = {user: i for (i,user) in enumerate(users)}\n",
    "\n",
    "for key, values in aggregated.items():\n",
    "    user_index = user_indices[key[0]]\n",
    "    attr_index = attr_indices[key[1]]\n",
    "    for i, value in enumerate(values):\n",
    "        df_collection[user_index * p + i][0] = key[0]\n",
    "        df_collection[user_index * p + i][attr_index + 1] = value\n",
    "        \n",
    "df = pd.DataFrame(df_collection)\n",
    "df.to_csv(\"processed_data/aggregated_\" + str(window_size) + \"timefix.csv\", header=['id']+attributes.tolist(), index=None)"
   ]
  },
  {
   "cell_type": "code",
   "execution_count": null,
   "metadata": {},
   "outputs": [],
   "source": []
  }
 ],
 "metadata": {
  "kernelspec": {
   "display_name": "Python 3",
   "language": "python",
   "name": "python3"
  },
  "language_info": {
   "codemirror_mode": {
    "name": "ipython",
    "version": 3
   },
   "file_extension": ".py",
   "mimetype": "text/x-python",
   "name": "python",
   "nbconvert_exporter": "python",
   "pygments_lexer": "ipython3",
   "version": "3.7.0"
  }
 },
 "nbformat": 4,
 "nbformat_minor": 2
}
